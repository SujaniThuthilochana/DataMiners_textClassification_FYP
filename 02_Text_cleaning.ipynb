{
 "cells": [
  {
   "cell_type": "code",
   "execution_count": 119,
   "id": "021010d1",
   "metadata": {},
   "outputs": [],
   "source": [
    "import pickle\n",
    "import pandas as pd\n",
    "import re\n",
    "import nltk\n",
    "from nltk.corpus import stopwords\n",
    "from nltk.stem import WordNetLemmatizer\n",
    "from sklearn.feature_extraction.text import TfidfVectorizer\n",
    "from sklearn.model_selection import train_test_split\n",
    "from sklearn.feature_selection import chi2\n",
    "import numpy as np\n",
    "import string"
   ]
  },
  {
   "cell_type": "code",
   "execution_count": 120,
   "id": "7e6c4403",
   "metadata": {},
   "outputs": [
    {
     "name": "stderr",
     "output_type": "stream",
     "text": [
      "C:\\Users\\mksuj\\anaconda3\\lib\\site-packages\\IPython\\core\\interactiveshell.py:3106: DtypeWarning: Columns (0) have mixed types.Specify dtype option on import or set low_memory=False.\n",
      "  has_raised = await self.run_ast_nodes(code_ast.body, cell_name,\n"
     ]
    }
   ],
   "source": [
    "f=pd.read_csv(\"combined_final_orginal_dataset.csv\")"
   ]
  },
  {
   "cell_type": "markdown",
   "id": "af794117",
   "metadata": {},
   "source": [
    "#Remove unneccasry columns and create a new csv"
   ]
  },
  {
   "cell_type": "code",
   "execution_count": 121,
   "id": "1c58f286",
   "metadata": {},
   "outputs": [],
   "source": [
    "keep_col = ['created_at','lang','text']\n",
    "new_f = f[keep_col]\n",
    "new_f.to_csv(\"Updated_Orginal.csv\", index=False)"
   ]
  },
  {
   "cell_type": "markdown",
   "id": "f1bfb8b4",
   "metadata": {},
   "source": [
    "#Remove non english"
   ]
  },
  {
   "cell_type": "code",
   "execution_count": 122,
   "id": "0d1e6261",
   "metadata": {},
   "outputs": [],
   "source": [
    "new_f=pd.read_csv(\"Updated_Orginal.csv\")\n",
    "new_f = new_f[new_f[\"lang\"].str.contains(\"en\") == True]\n",
    "new_f.to_csv(\"Updated_Orginal_Eng.csv\", index=False)"
   ]
  },
  {
   "cell_type": "code",
   "execution_count": 123,
   "id": "4f70dded",
   "metadata": {},
   "outputs": [
    {
     "name": "stdout",
     "output_type": "stream",
     "text": [
      "161563\n"
     ]
    }
   ],
   "source": [
    "num_rows = new_f.shape[0]\n",
    "print(num_rows)"
   ]
  },
  {
   "cell_type": "markdown",
   "id": "cd24f017",
   "metadata": {},
   "source": [
    "#remove the duplicate rows based on the 'text' column"
   ]
  },
  {
   "cell_type": "code",
   "execution_count": 124,
   "id": "9cff916a",
   "metadata": {},
   "outputs": [],
   "source": [
    "new_f=pd.read_csv(\"Updated_Orginal_Eng.csv\")\n",
    "\n",
    "# Remove duplicate rows based on the 'text' column\n",
    "new_f = new_f.drop_duplicates(subset =['created_at','lang','text'], keep='first', inplace=False, ignore_index=False)\n",
    "\n",
    "new_f.to_csv('Updated_Distinct_Orginal.csv', index=False)\n"
   ]
  },
  {
   "cell_type": "code",
   "execution_count": 125,
   "id": "1a67a978",
   "metadata": {},
   "outputs": [
    {
     "name": "stdout",
     "output_type": "stream",
     "text": [
      "142541\n"
     ]
    }
   ],
   "source": [
    "num_rows = new_f.shape[0]\n",
    "print(num_rows)"
   ]
  },
  {
   "cell_type": "markdown",
   "id": "5cc3853a",
   "metadata": {},
   "source": [
    "Data Preprocessing : Data Cleaning"
   ]
  },
  {
   "cell_type": "code",
   "execution_count": 126,
   "id": "8cdbbd00",
   "metadata": {},
   "outputs": [],
   "source": [
    "#Remove http web references"
   ]
  },
  {
   "cell_type": "code",
   "execution_count": 127,
   "id": "0527c898",
   "metadata": {},
   "outputs": [
    {
     "name": "stderr",
     "output_type": "stream",
     "text": [
      "C:\\Users\\mksuj\\AppData\\Local\\Temp\\ipykernel_18552\\740329011.py:1: FutureWarning: The default value of regex will change from True to False in a future version.\n",
      "  new_f['Content_Parsed_0'] = new_f['text'].str.replace('https:\\/\\/.*|http:\\/\\/.*',\"\")\n"
     ]
    }
   ],
   "source": [
    "new_f['Content_Parsed_0'] = new_f['text'].str.replace('https:\\/\\/.*|http:\\/\\/.*',\"\")"
   ]
  },
  {
   "cell_type": "code",
   "execution_count": 128,
   "id": "b49d9ba4",
   "metadata": {},
   "outputs": [],
   "source": [
    "#Remove emails @"
   ]
  },
  {
   "cell_type": "code",
   "execution_count": 129,
   "id": "ea1f4f7d",
   "metadata": {},
   "outputs": [
    {
     "name": "stderr",
     "output_type": "stream",
     "text": [
      "C:\\Users\\mksuj\\AppData\\Local\\Temp\\ipykernel_18552\\2517235319.py:1: FutureWarning: The default value of regex will change from True to False in a future version.\n",
      "  new_f['Content_Parsed_1'] = new_f['Content_Parsed_0'].str.replace(r\"\\S*@\\S*\\s?\", \"\")\n"
     ]
    }
   ],
   "source": [
    "new_f['Content_Parsed_1'] = new_f['Content_Parsed_0'].str.replace(r\"\\S*@\\S*\\s?\", \"\")"
   ]
  },
  {
   "cell_type": "code",
   "execution_count": 130,
   "id": "c3eaa191",
   "metadata": {},
   "outputs": [],
   "source": [
    "#Remove possessive pronouns"
   ]
  },
  {
   "cell_type": "code",
   "execution_count": 131,
   "id": "65d7bf6e",
   "metadata": {},
   "outputs": [],
   "source": [
    "new_f['Content_Parsed_2'] = new_f['Content_Parsed_1'].str.replace(\"'s\", \"\")"
   ]
  },
  {
   "cell_type": "code",
   "execution_count": 132,
   "id": "cf43e780",
   "metadata": {},
   "outputs": [],
   "source": [
    "#Remove special characters"
   ]
  },
  {
   "cell_type": "code",
   "execution_count": 133,
   "id": "73c71388",
   "metadata": {},
   "outputs": [],
   "source": [
    "new_f['Content_Parsed_3'] = new_f['Content_Parsed_2'].str.replace(\"\\r\", \"\")\n",
    "new_f['Content_Parsed_3'] = new_f['Content_Parsed_3'].str.replace(\"\\n \", \"\")\n",
    "new_f['Content_Parsed_3'] = new_f['Content_Parsed_3'].str.replace(\"\\n\", \"\")\n",
    "new_f['Content_Parsed_3'] = new_f['Content_Parsed_3'].str.replace(\"    \", \"\")"
   ]
  },
  {
   "cell_type": "code",
   "execution_count": 134,
   "id": "6b684a2c",
   "metadata": {},
   "outputs": [],
   "source": [
    "new_f['Content_Parsed_4'] = new_f['Content_Parsed_3'].str.replace(\"&\", \"\")\n",
    "new_f['Content_Parsed_4'] = new_f['Content_Parsed_4'].str.replace(\"#\", \"\")"
   ]
  },
  {
   "cell_type": "code",
   "execution_count": 135,
   "id": "b9d68b05",
   "metadata": {},
   "outputs": [],
   "source": [
    "#Lowercasing the text"
   ]
  },
  {
   "cell_type": "code",
   "execution_count": 195,
   "id": "0604d546",
   "metadata": {},
   "outputs": [],
   "source": [
    "new_f['Content_Parsed_5'] = new_f['Content_Parsed_4'].str.lower()"
   ]
  },
  {
   "cell_type": "code",
   "execution_count": 196,
   "id": "a720b6a3",
   "metadata": {},
   "outputs": [],
   "source": [
    "#Remove Punctuation signs"
   ]
  },
  {
   "cell_type": "code",
   "execution_count": 206,
   "id": "0deb01e9",
   "metadata": {},
   "outputs": [
    {
     "name": "stderr",
     "output_type": "stream",
     "text": [
      "C:\\Users\\mksuj\\AppData\\Local\\Temp\\ipykernel_18552\\489861548.py:6: FutureWarning: The default value of regex will change from True to False in a future version. In addition, single character regular expressions will*not* be treated as literal strings when regex=True.\n",
      "  new_f['Content_Parsed_6'] = new_f['Content_Parsed_6'].str.replace(punct_sign, \" \")\n"
     ]
    }
   ],
   "source": [
    "#.replace({\"$^'|'\": \"\"}, regex=True)\n",
    "punctuation_signs = list(\"!#$%&'\"\"()*+,-./:;<=>?@[\\]^_`{|}~\")\n",
    "new_f['Content_Parsed_6'] = new_f['Content_Parsed_5']\n",
    "\n",
    "for punct_sign in punctuation_signs:\n",
    "    new_f['Content_Parsed_6'] = new_f['Content_Parsed_6'].str.replace(punct_sign, \" \")\n",
    "    \n",
    "new_f['Content_Parsed_6'] = new_f['Content_Parsed_6'].str.replace('\"', '')\n",
    "new_f['Content_Parsed_6'] = new_f['Content_Parsed_6'].replace({\"$^'|'\": \"\"}, regex=True)\n",
    "new_f['Content_Parsed_6'] = new_f['Content_Parsed_6'].str.replace('’','')\n",
    "new_f['Content_Parsed_6'] = new_f['Content_Parsed_6'].str.replace('“','')\n",
    "new_f['Content_Parsed_6'] = new_f['Content_Parsed_6'].str.replace('”','')"
   ]
  },
  {
   "cell_type": "code",
   "execution_count": 207,
   "id": "16aa27b8",
   "metadata": {},
   "outputs": [],
   "source": [
    "#Remove numbers"
   ]
  },
  {
   "cell_type": "code",
   "execution_count": 208,
   "id": "584c37ec",
   "metadata": {
    "scrolled": true
   },
   "outputs": [
    {
     "name": "stderr",
     "output_type": "stream",
     "text": [
      "C:\\Users\\mksuj\\AppData\\Local\\Temp\\ipykernel_18552\\1142136919.py:1: FutureWarning: The default value of regex will change from True to False in a future version.\n",
      "  new_f['Content_Parsed_7'] = new_f['Content_Parsed_6'].str.replace(\"\\d+\", \"\")\n"
     ]
    }
   ],
   "source": [
    "new_f['Content_Parsed_7'] = new_f['Content_Parsed_6'].str.replace(\"\\d+\", \"\")"
   ]
  },
  {
   "cell_type": "code",
   "execution_count": 209,
   "id": "627e5be2",
   "metadata": {},
   "outputs": [],
   "source": [
    "#Remove all single characters"
   ]
  },
  {
   "cell_type": "code",
   "execution_count": 210,
   "id": "090d5ba4",
   "metadata": {},
   "outputs": [
    {
     "name": "stderr",
     "output_type": "stream",
     "text": [
      "C:\\Users\\mksuj\\AppData\\Local\\Temp\\ipykernel_18552\\699451120.py:1: FutureWarning: The default value of regex will change from True to False in a future version.\n",
      "  new_f['Content_Parsed_8'] = new_f['Content_Parsed_7'].str.replace(r'\\b\\w\\b','').str.replace(r'\\s+', ' ')\n"
     ]
    }
   ],
   "source": [
    "new_f['Content_Parsed_8'] = new_f['Content_Parsed_7'].str.replace(r'\\b\\w\\b','').str.replace(r'\\s+', ' ')"
   ]
  },
  {
   "cell_type": "code",
   "execution_count": 211,
   "id": "986525f3",
   "metadata": {},
   "outputs": [],
   "source": [
    "#Remove whitespaces"
   ]
  },
  {
   "cell_type": "code",
   "execution_count": 212,
   "id": "6427ff4d",
   "metadata": {},
   "outputs": [
    {
     "name": "stderr",
     "output_type": "stream",
     "text": [
      "C:\\Users\\mksuj\\AppData\\Local\\Temp\\ipykernel_18552\\1516970677.py:1: FutureWarning: The default value of regex will change from True to False in a future version.\n",
      "  new_f['Content_Parsed_9'] = new_f['Content_Parsed_8'].str.replace(r\"^\\s+\",\"\")\n",
      "C:\\Users\\mksuj\\AppData\\Local\\Temp\\ipykernel_18552\\1516970677.py:2: FutureWarning: The default value of regex will change from True to False in a future version.\n",
      "  new_f['Content_Parsed_9'] = new_f['Content_Parsed_8'].str.replace(r\"\\s+\",\" \")\n"
     ]
    }
   ],
   "source": [
    "new_f['Content_Parsed_9'] = new_f['Content_Parsed_8'].str.replace(r\"^\\s+\",\"\")\n",
    "new_f['Content_Parsed_9'] = new_f['Content_Parsed_8'].str.replace(r\"\\s+\",\" \")"
   ]
  },
  {
   "cell_type": "code",
   "execution_count": 213,
   "id": "880351ab",
   "metadata": {},
   "outputs": [],
   "source": [
    "new_f.to_csv('pre_processed_data.csv')"
   ]
  },
  {
   "cell_type": "code",
   "execution_count": 148,
   "id": "0651da12",
   "metadata": {},
   "outputs": [
    {
     "data": {
      "text/plain": [
       "\"We all need to fight #COVID19.\\nAnyone can get infected and spread the disease to others.\\nSome young, healthy people have become seriously sick, and some have even died.\\n\\nLow risk isn't no risk. https://t.co/585OnotaMS\""
      ]
     },
     "execution_count": 148,
     "metadata": {},
     "output_type": "execute_result"
    }
   ],
   "source": [
    "#orginal text\n",
    "new_f.loc[1]['text']"
   ]
  },
  {
   "cell_type": "code",
   "execution_count": 149,
   "id": "93340863",
   "metadata": {},
   "outputs": [
    {
     "data": {
      "text/plain": [
       "\"We all need to fight #COVID19.\\nAnyone can get infected and spread the disease to others.\\nSome young, healthy people have become seriously sick, and some have even died.\\n\\nLow risk isn't no risk. \""
      ]
     },
     "execution_count": 149,
     "metadata": {},
     "output_type": "execute_result"
    }
   ],
   "source": [
    "#remove http\n",
    "new_f.loc[1]['Content_Parsed_0']"
   ]
  },
  {
   "cell_type": "code",
   "execution_count": 150,
   "id": "67c5a142",
   "metadata": {},
   "outputs": [
    {
     "data": {
      "text/plain": [
       "\"We all need to fight #COVID19.\\nAnyone can get infected and spread the disease to others.\\nSome young, healthy people have become seriously sick, and some have even died.\\n\\nLow risk isn't no risk. \""
      ]
     },
     "execution_count": 150,
     "metadata": {},
     "output_type": "execute_result"
    }
   ],
   "source": [
    "#remove email @\n",
    "new_f.loc[1]['Content_Parsed_1']"
   ]
  },
  {
   "cell_type": "code",
   "execution_count": 151,
   "id": "735a950a",
   "metadata": {},
   "outputs": [
    {
     "data": {
      "text/plain": [
       "\"We all need to fight #COVID19.\\nAnyone can get infected and spread the disease to others.\\nSome young, healthy people have become seriously sick, and some have even died.\\n\\nLow risk isn't no risk. \""
      ]
     },
     "execution_count": 151,
     "metadata": {},
     "output_type": "execute_result"
    }
   ],
   "source": [
    "#remove posessive pronoun\n",
    "new_f.loc[1]['Content_Parsed_2']"
   ]
  },
  {
   "cell_type": "code",
   "execution_count": 152,
   "id": "d931a7ef",
   "metadata": {},
   "outputs": [
    {
     "data": {
      "text/plain": [
       "\"We all need to fight #COVID19.Anyone can get infected and spread the disease to others.Some young, healthy people have become seriously sick, and some have even died.Low risk isn't no risk. \""
      ]
     },
     "execution_count": 152,
     "metadata": {},
     "output_type": "execute_result"
    }
   ],
   "source": [
    "#remove special characters\n",
    "new_f.loc[1]['Content_Parsed_3']"
   ]
  },
  {
   "cell_type": "code",
   "execution_count": 153,
   "id": "9bebb8fa",
   "metadata": {},
   "outputs": [
    {
     "data": {
      "text/plain": [
       "\"We all need to fight COVID19.Anyone can get infected and spread the disease to others.Some young, healthy people have become seriously sick, and some have even died.Low risk isn't no risk. \""
      ]
     },
     "execution_count": 153,
     "metadata": {},
     "output_type": "execute_result"
    }
   ],
   "source": [
    "#remove special characters\n",
    "new_f.loc[1]['Content_Parsed_4']"
   ]
  },
  {
   "cell_type": "code",
   "execution_count": 154,
   "id": "fe74bd9d",
   "metadata": {},
   "outputs": [
    {
     "data": {
      "text/plain": [
       "\"we all need to fight covid19.anyone can get infected and spread the disease to others.some young, healthy people have become seriously sick, and some have even died.low risk isn't no risk. \""
      ]
     },
     "execution_count": 154,
     "metadata": {},
     "output_type": "execute_result"
    }
   ],
   "source": [
    "#lowercase\n",
    "new_f.loc[1]['Content_Parsed_5']"
   ]
  },
  {
   "cell_type": "code",
   "execution_count": 155,
   "id": "4f79dd1a",
   "metadata": {},
   "outputs": [
    {
     "data": {
      "text/plain": [
       "'we all need to fight covid19 anyone can get infected and spread the disease to others some young  healthy people have become seriously sick  and some have even died low risk isn t no risk  '"
      ]
     },
     "execution_count": 155,
     "metadata": {},
     "output_type": "execute_result"
    }
   ],
   "source": [
    "#remove punctuation signs\n",
    "new_f.loc[1]['Content_Parsed_6']"
   ]
  },
  {
   "cell_type": "code",
   "execution_count": 156,
   "id": "bb5622ad",
   "metadata": {},
   "outputs": [
    {
     "data": {
      "text/plain": [
       "'we all need to fight covid anyone can get infected and spread the disease to others some young  healthy people have become seriously sick  and some have even died low risk isn t no risk  '"
      ]
     },
     "execution_count": 156,
     "metadata": {},
     "output_type": "execute_result"
    }
   ],
   "source": [
    "#Remove numbers\n",
    "new_f.loc[1]['Content_Parsed_7']"
   ]
  },
  {
   "cell_type": "code",
   "execution_count": 193,
   "id": "5741e306",
   "metadata": {},
   "outputs": [
    {
     "data": {
      "text/plain": [
       "'we all need to fight covid anyone can get infected and spread the disease to others some young healthy people have become seriously sick and some have even died low risk isn no risk '"
      ]
     },
     "execution_count": 193,
     "metadata": {},
     "output_type": "execute_result"
    }
   ],
   "source": [
    "# remove all single characters \n",
    "new_f.loc[1]['Content_Parsed_8']"
   ]
  },
  {
   "cell_type": "code",
   "execution_count": 194,
   "id": "a1a03a64",
   "metadata": {},
   "outputs": [
    {
     "data": {
      "text/plain": [
       "'we all need to fight covid anyone can get infected and spread the disease to others some young healthy people have become seriously sick and some have even died low risk isn no risk '"
      ]
     },
     "execution_count": 194,
     "metadata": {},
     "output_type": "execute_result"
    }
   ],
   "source": [
    "#remove whitespaces\n",
    "new_f.loc[1]['Content_Parsed_9']"
   ]
  },
  {
   "cell_type": "code",
   "execution_count": 171,
   "id": "dd454b97",
   "metadata": {},
   "outputs": [
    {
     "data": {
      "text/html": [
       "<div>\n",
       "<style scoped>\n",
       "    .dataframe tbody tr th:only-of-type {\n",
       "        vertical-align: middle;\n",
       "    }\n",
       "\n",
       "    .dataframe tbody tr th {\n",
       "        vertical-align: top;\n",
       "    }\n",
       "\n",
       "    .dataframe thead th {\n",
       "        text-align: right;\n",
       "    }\n",
       "</style>\n",
       "<table border=\"1\" class=\"dataframe\">\n",
       "  <thead>\n",
       "    <tr style=\"text-align: right;\">\n",
       "      <th></th>\n",
       "      <th>created_at</th>\n",
       "      <th>lang</th>\n",
       "      <th>text</th>\n",
       "      <th>Content_Parsed_0</th>\n",
       "      <th>Content_Parsed_1</th>\n",
       "      <th>Content_Parsed_2</th>\n",
       "      <th>Content_Parsed_3</th>\n",
       "      <th>Content_Parsed_4</th>\n",
       "      <th>Content_Parsed_5</th>\n",
       "      <th>Content_Parsed_6</th>\n",
       "      <th>Content_Parsed_7</th>\n",
       "      <th>Content_Parsed_8</th>\n",
       "      <th>Content_Parsed_9</th>\n",
       "    </tr>\n",
       "  </thead>\n",
       "  <tbody>\n",
       "    <tr>\n",
       "      <th>161558</th>\n",
       "      <td>Mon Jan 24 00:59:53 +0000 2022</td>\n",
       "      <td>en</td>\n",
       "      <td>@MichaelFieldNZ Maybe a fav of the older gener...</td>\n",
       "      <td>@MichaelFieldNZ Maybe a fav of the older gener...</td>\n",
       "      <td>Maybe a fav of the older generation perhaps (o...</td>\n",
       "      <td>Maybe a fav of the older generation perhaps (o...</td>\n",
       "      <td>Maybe a fav of the older generation perhaps (o...</td>\n",
       "      <td>Maybe a fav of the older generation perhaps (o...</td>\n",
       "      <td>maybe a fav of the older generation perhaps (o...</td>\n",
       "      <td>maybe a fav of the older generation perhaps  o...</td>\n",
       "      <td>maybe a fav of the older generation perhaps  o...</td>\n",
       "      <td>maybe fav of the older generation perhaps our ...</td>\n",
       "      <td>maybe fav of the older generation perhaps our ...</td>\n",
       "    </tr>\n",
       "    <tr>\n",
       "      <th>161559</th>\n",
       "      <td>Mon Jan 24 00:59:54 +0000 2022</td>\n",
       "      <td>en</td>\n",
       "      <td>🚨Very Bad Idea!🚨\\nPutting hospitalized #Covid1...</td>\n",
       "      <td>🚨Very Bad Idea!🚨\\nPutting hospitalized #Covid1...</td>\n",
       "      <td>🚨Very Bad Idea!🚨\\nPutting hospitalized #Covid1...</td>\n",
       "      <td>🚨Very Bad Idea!🚨\\nPutting hospitalized #Covid1...</td>\n",
       "      <td>🚨Very Bad Idea!🚨Putting hospitalized #Covid19 ...</td>\n",
       "      <td>🚨Very Bad Idea!🚨Putting hospitalized Covid19 p...</td>\n",
       "      <td>🚨very bad idea!🚨putting hospitalized covid19 p...</td>\n",
       "      <td>🚨very bad idea 🚨putting hospitalized covid19 p...</td>\n",
       "      <td>🚨very bad idea 🚨putting hospitalized covid pos...</td>\n",
       "      <td>🚨very bad idea 🚨putting hospitalized covid pos...</td>\n",
       "      <td>🚨very bad idea 🚨putting hospitalized covid pos...</td>\n",
       "    </tr>\n",
       "    <tr>\n",
       "      <th>161560</th>\n",
       "      <td>Mon Jan 24 00:59:54 +0000 2022</td>\n",
       "      <td>en</td>\n",
       "      <td>The truckers do realize that even if the vacci...</td>\n",
       "      <td>The truckers do realize that even if the vacci...</td>\n",
       "      <td>The truckers do realize that even if the vacci...</td>\n",
       "      <td>The truckers do realize that even if the vacci...</td>\n",
       "      <td>The truckers do realize that even if the vacci...</td>\n",
       "      <td>The truckers do realize that even if the vacci...</td>\n",
       "      <td>the truckers do realize that even if the vacci...</td>\n",
       "      <td>the truckers do realize that even if the vacci...</td>\n",
       "      <td>the truckers do realize that even if the vacci...</td>\n",
       "      <td>the truckers do realize that even if the vacci...</td>\n",
       "      <td>the truckers do realize that even if the vacci...</td>\n",
       "    </tr>\n",
       "    <tr>\n",
       "      <th>161561</th>\n",
       "      <td>Mon Jan 24 00:59:53 +0000 2022</td>\n",
       "      <td>en</td>\n",
       "      <td>@oneunderscore__ Exploiting of the tragedy of ...</td>\n",
       "      <td>@oneunderscore__ Exploiting of the tragedy of ...</td>\n",
       "      <td>Exploiting of the tragedy of people who suffer...</td>\n",
       "      <td>Exploiting of the tragedy of people who suffer...</td>\n",
       "      <td>Exploiting of the tragedy of people who suffer...</td>\n",
       "      <td>Exploiting of the tragedy of people who suffer...</td>\n",
       "      <td>exploiting of the tragedy of people who suffer...</td>\n",
       "      <td>exploiting of the tragedy of people who suffer...</td>\n",
       "      <td>exploiting of the tragedy of people who suffer...</td>\n",
       "      <td>exploiting of the tragedy of people who suffer...</td>\n",
       "      <td>exploiting of the tragedy of people who suffer...</td>\n",
       "    </tr>\n",
       "    <tr>\n",
       "      <th>161562</th>\n",
       "      <td>Mon Jan 24 00:59:54 +0000 2022</td>\n",
       "      <td>en</td>\n",
       "      <td>K'taka reported 50k mark covid cases, with 50,...</td>\n",
       "      <td>K'taka reported 50k mark covid cases, with 50,...</td>\n",
       "      <td>K'taka reported 50k mark covid cases, with 50,...</td>\n",
       "      <td>K'taka reported 50k mark covid cases, with 50,...</td>\n",
       "      <td>K'taka reported 50k mark covid cases, with 50,...</td>\n",
       "      <td>K'taka reported 50k mark covid cases, with 50,...</td>\n",
       "      <td>k'taka reported 50k mark covid cases, with 50,...</td>\n",
       "      <td>k taka reported 50k mark covid cases  with 50 ...</td>\n",
       "      <td>k taka reported k mark covid cases  with   in ...</td>\n",
       "      <td>taka reported mark covid cases with in number...</td>\n",
       "      <td>k taka reported mark covid cases with in numbe...</td>\n",
       "    </tr>\n",
       "  </tbody>\n",
       "</table>\n",
       "</div>"
      ],
      "text/plain": [
       "                            created_at lang  \\\n",
       "161558  Mon Jan 24 00:59:53 +0000 2022   en   \n",
       "161559  Mon Jan 24 00:59:54 +0000 2022   en   \n",
       "161560  Mon Jan 24 00:59:54 +0000 2022   en   \n",
       "161561  Mon Jan 24 00:59:53 +0000 2022   en   \n",
       "161562  Mon Jan 24 00:59:54 +0000 2022   en   \n",
       "\n",
       "                                                     text  \\\n",
       "161558  @MichaelFieldNZ Maybe a fav of the older gener...   \n",
       "161559  🚨Very Bad Idea!🚨\\nPutting hospitalized #Covid1...   \n",
       "161560  The truckers do realize that even if the vacci...   \n",
       "161561  @oneunderscore__ Exploiting of the tragedy of ...   \n",
       "161562  K'taka reported 50k mark covid cases, with 50,...   \n",
       "\n",
       "                                         Content_Parsed_0  \\\n",
       "161558  @MichaelFieldNZ Maybe a fav of the older gener...   \n",
       "161559  🚨Very Bad Idea!🚨\\nPutting hospitalized #Covid1...   \n",
       "161560  The truckers do realize that even if the vacci...   \n",
       "161561  @oneunderscore__ Exploiting of the tragedy of ...   \n",
       "161562  K'taka reported 50k mark covid cases, with 50,...   \n",
       "\n",
       "                                         Content_Parsed_1  \\\n",
       "161558  Maybe a fav of the older generation perhaps (o...   \n",
       "161559  🚨Very Bad Idea!🚨\\nPutting hospitalized #Covid1...   \n",
       "161560  The truckers do realize that even if the vacci...   \n",
       "161561  Exploiting of the tragedy of people who suffer...   \n",
       "161562  K'taka reported 50k mark covid cases, with 50,...   \n",
       "\n",
       "                                         Content_Parsed_2  \\\n",
       "161558  Maybe a fav of the older generation perhaps (o...   \n",
       "161559  🚨Very Bad Idea!🚨\\nPutting hospitalized #Covid1...   \n",
       "161560  The truckers do realize that even if the vacci...   \n",
       "161561  Exploiting of the tragedy of people who suffer...   \n",
       "161562  K'taka reported 50k mark covid cases, with 50,...   \n",
       "\n",
       "                                         Content_Parsed_3  \\\n",
       "161558  Maybe a fav of the older generation perhaps (o...   \n",
       "161559  🚨Very Bad Idea!🚨Putting hospitalized #Covid19 ...   \n",
       "161560  The truckers do realize that even if the vacci...   \n",
       "161561  Exploiting of the tragedy of people who suffer...   \n",
       "161562  K'taka reported 50k mark covid cases, with 50,...   \n",
       "\n",
       "                                         Content_Parsed_4  \\\n",
       "161558  Maybe a fav of the older generation perhaps (o...   \n",
       "161559  🚨Very Bad Idea!🚨Putting hospitalized Covid19 p...   \n",
       "161560  The truckers do realize that even if the vacci...   \n",
       "161561  Exploiting of the tragedy of people who suffer...   \n",
       "161562  K'taka reported 50k mark covid cases, with 50,...   \n",
       "\n",
       "                                         Content_Parsed_5  \\\n",
       "161558  maybe a fav of the older generation perhaps (o...   \n",
       "161559  🚨very bad idea!🚨putting hospitalized covid19 p...   \n",
       "161560  the truckers do realize that even if the vacci...   \n",
       "161561  exploiting of the tragedy of people who suffer...   \n",
       "161562  k'taka reported 50k mark covid cases, with 50,...   \n",
       "\n",
       "                                         Content_Parsed_6  \\\n",
       "161558  maybe a fav of the older generation perhaps  o...   \n",
       "161559  🚨very bad idea 🚨putting hospitalized covid19 p...   \n",
       "161560  the truckers do realize that even if the vacci...   \n",
       "161561  exploiting of the tragedy of people who suffer...   \n",
       "161562  k taka reported 50k mark covid cases  with 50 ...   \n",
       "\n",
       "                                         Content_Parsed_7  \\\n",
       "161558  maybe a fav of the older generation perhaps  o...   \n",
       "161559  🚨very bad idea 🚨putting hospitalized covid pos...   \n",
       "161560  the truckers do realize that even if the vacci...   \n",
       "161561  exploiting of the tragedy of people who suffer...   \n",
       "161562  k taka reported k mark covid cases  with   in ...   \n",
       "\n",
       "                                         Content_Parsed_8  \\\n",
       "161558  maybe fav of the older generation perhaps our ...   \n",
       "161559  🚨very bad idea 🚨putting hospitalized covid pos...   \n",
       "161560  the truckers do realize that even if the vacci...   \n",
       "161561  exploiting of the tragedy of people who suffer...   \n",
       "161562   taka reported mark covid cases with in number...   \n",
       "\n",
       "                                         Content_Parsed_9  \n",
       "161558  maybe fav of the older generation perhaps our ...  \n",
       "161559  🚨very bad idea 🚨putting hospitalized covid pos...  \n",
       "161560  the truckers do realize that even if the vacci...  \n",
       "161561  exploiting of the tragedy of people who suffer...  \n",
       "161562  k taka reported mark covid cases with in numbe...  "
      ]
     },
     "execution_count": 171,
     "metadata": {},
     "output_type": "execute_result"
    }
   ],
   "source": [
    "new_f.tail()"
   ]
  },
  {
   "cell_type": "code",
   "execution_count": null,
   "id": "d6609179",
   "metadata": {},
   "outputs": [],
   "source": []
  }
 ],
 "metadata": {
  "kernelspec": {
   "display_name": "Python 3 (ipykernel)",
   "language": "python",
   "name": "python3"
  },
  "language_info": {
   "codemirror_mode": {
    "name": "ipython",
    "version": 3
   },
   "file_extension": ".py",
   "mimetype": "text/x-python",
   "name": "python",
   "nbconvert_exporter": "python",
   "pygments_lexer": "ipython3",
   "version": "3.9.12"
  }
 },
 "nbformat": 4,
 "nbformat_minor": 5
}
